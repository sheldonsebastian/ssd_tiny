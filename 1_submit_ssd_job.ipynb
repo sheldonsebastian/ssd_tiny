{
 "cells": [
  {
   "cell_type": "markdown",
   "metadata": {},
   "source": [
    "- https://github.com/open-mmlab/mmrotate/blob/main/demo/MMRotate_Tutorial.ipynb"
   ]
  },
  {
   "cell_type": "markdown",
   "metadata": {},
   "source": [
    "# Prerequisites"
   ]
  },
  {
   "cell_type": "code",
   "execution_count": 1,
   "metadata": {},
   "outputs": [],
   "source": [
    "# # download, decompress the data\n",
    "# !wget https://download.openmmlab.com/mmrotate/data/ssdd_tiny.zip\n",
    "# !unzip ssdd_tiny.zip > /dev/null"
   ]
  },
  {
   "cell_type": "code",
   "execution_count": 2,
   "metadata": {},
   "outputs": [],
   "source": [
    "# # Let's take a look at the dataset image\n",
    "# import matplotlib.pyplot as plt\n",
    "# import mmcv\n",
    "# img = mmcv.imread('ssdd_tiny/images/000631.png')\n",
    "# plt.figure(figsize=(15, 10))\n",
    "# plt.imshow(mmcv.bgr2rgb(img))\n",
    "# plt.show()"
   ]
  },
  {
   "cell_type": "code",
   "execution_count": 3,
   "metadata": {},
   "outputs": [],
   "source": [
    "# # Check the label of a single image\n",
    "# !cat ssdd_tiny/train/000631.txt"
   ]
  },
  {
   "cell_type": "markdown",
   "metadata": {},
   "source": [
    "# Submit Job"
   ]
  },
  {
   "cell_type": "code",
   "execution_count": 4,
   "metadata": {},
   "outputs": [],
   "source": [
    "from azure.ai.ml import command, MLClient\n",
    "from azure.ai.ml.entities import JobResourceConfiguration\n",
    "from azure.identity import DefaultAzureCredential\n",
    "from dotenv import load_dotenv\n",
    "import os"
   ]
  },
  {
   "cell_type": "code",
   "execution_count": 5,
   "metadata": {},
   "outputs": [],
   "source": [
    "environment_name = \"mmrotate-azure-env-gpu\""
   ]
  },
  {
   "cell_type": "code",
   "execution_count": 6,
   "metadata": {},
   "outputs": [],
   "source": [
    "if os.path.exists(\"configs.env\"):\n",
    "    load_dotenv(\"configs.env\")"
   ]
  },
  {
   "cell_type": "code",
   "execution_count": 7,
   "metadata": {},
   "outputs": [],
   "source": [
    "subscription_id = os.getenv(\"SUBSCRIPTION_ID\")\n",
    "resource_group = os.getenv(\"RESOURCE_GROUP\")\n",
    "workspace = os.getenv(\"WORKSPACE_NAME\")"
   ]
  },
  {
   "cell_type": "code",
   "execution_count": 8,
   "metadata": {},
   "outputs": [],
   "source": [
    "ml_client = MLClient(\n",
    "    DefaultAzureCredential(), subscription_id, resource_group, workspace\n",
    ")"
   ]
  },
  {
   "cell_type": "code",
   "execution_count": 9,
   "metadata": {},
   "outputs": [
    {
     "name": "stderr",
     "output_type": "stream",
     "text": [
      "Class QueueSettings: This is an experimental class, and may change at any time. Please see https://aka.ms/azuremlexperimental for more information.\n"
     ]
    }
   ],
   "source": [
    "job = command(\n",
    "    code=\"ssd_tiny_src\",  # location of source code\n",
    "    command=\"python train.py\",  # script to run\n",
    "    environment=f\"{environment_name}@latest\",\n",
    "    display_name=\"mmrotate-verify-install\",\n",
    "    resources=JobResourceConfiguration(\n",
    "        instance_type=\"Standard_NC4as_T4_v3\", instance_count=1\n",
    "    ),\n",
    "    queue_settings={\"job_tier\": \"spot\"},\n",
    "    # compute=ci_basic_name,\n",
    ")"
   ]
  },
  {
   "cell_type": "code",
   "execution_count": 10,
   "metadata": {},
   "outputs": [
    {
     "name": "stderr",
     "output_type": "stream",
     "text": [
      "Class AutoDeleteSettingSchema: This is an experimental class, and may change at any time. Please see https://aka.ms/azuremlexperimental for more information.\n",
      "Class AutoDeleteConditionSchema: This is an experimental class, and may change at any time. Please see https://aka.ms/azuremlexperimental for more information.\n",
      "Class BaseAutoDeleteSettingSchema: This is an experimental class, and may change at any time. Please see https://aka.ms/azuremlexperimental for more information.\n",
      "Class IntellectualPropertySchema: This is an experimental class, and may change at any time. Please see https://aka.ms/azuremlexperimental for more information.\n",
      "Class ProtectionLevelSchema: This is an experimental class, and may change at any time. Please see https://aka.ms/azuremlexperimental for more information.\n",
      "Class BaseIntellectualPropertySchema: This is an experimental class, and may change at any time. Please see https://aka.ms/azuremlexperimental for more information.\n",
      "Field 'queue_settings': This is an experimental field, and may change at any time. Please see https://aka.ms/azuremlexperimental for more information.\n",
      "Your file exceeds 100 MB. If you experience low speeds, latency, or broken connections, we recommend using the AzCopyv10 tool for this file transfer.\n",
      "\n",
      "Example: azcopy copy '/home/sheldon/workspaces/ssd_tiny/ssd_tiny_src' 'https://sheldonworkspa1013856776.blob.core.windows.net/9c4840ed-9675-4e71-9470-d5b42087dc8e-oejl26uh6m3kl3sqhh624boapg/ssd_tiny_src' \n",
      "\n",
      "See https://docs.microsoft.com/azure/storage/common/storage-use-azcopy-v10 for more information.\n",
      "\u001b[32mUploading ssd_tiny_src (172.48 MBs): 100%|██████████| 172477318/172477318 [00:04<00:00, 37822166.26it/s]\n",
      "\u001b[39m\n",
      "\n"
     ]
    },
    {
     "data": {
      "text/html": [
       "<table style=\"width:100%\"><tr><th>Experiment</th><th>Name</th><th>Type</th><th>Status</th><th>Details Page</th></tr><tr><td>ssd_tiny</td><td>neat_oven_h6pjwcycd7</td><td>command</td><td>Starting</td><td><a href=\"https://ml.azure.com/runs/neat_oven_h6pjwcycd7?wsid=/subscriptions/12f3c420-0042-4a74-822e-9300a0a381b2/resourcegroups/mmrotate-azure-rg/workspaces/sheldon-workspace&amp;tid=26b87767-b204-462f-9e8f-72813705fb8e\" target=\"_blank\" rel=\"noopener\">Link to Azure Machine Learning studio</a></td></tr></table>"
      ],
      "text/plain": [
       "Command({'parameters': {}, 'init': False, 'name': 'neat_oven_h6pjwcycd7', 'type': 'command', 'status': 'Starting', 'log_files': None, 'description': None, 'tags': {}, 'properties': {'mlflow.source.git.repoURL': 'https://github.com/sheldonsebastian/ssd_tiny.git', 'mlflow.source.git.branch': 'main', 'mlflow.source.git.commit': 'cad4dae1d002e7e24a093e9e3fb22c472e7e79b9', 'azureml.git.dirty': 'True', '_azureml.ComputeTargetType': 'amlctrain', '_azureml.ClusterName': None, 'ContentSnapshotId': '6e7e8a68-2c83-437f-98dd-ca9b7ab417a2'}, 'print_as_yaml': False, 'id': '/subscriptions/12f3c420-0042-4a74-822e-9300a0a381b2/resourceGroups/mmrotate-azure-rg/providers/Microsoft.MachineLearningServices/workspaces/sheldon-workspace/jobs/neat_oven_h6pjwcycd7', 'Resource__source_path': '', 'base_path': '/home/sheldon/workspaces/ssd_tiny', 'creation_context': <azure.ai.ml.entities._system_data.SystemData object at 0x7fdcb821d160>, 'serialize': <msrest.serialization.Serializer object at 0x7fdcb82790d0>, 'allowed_keys': {}, 'key_restriction': False, 'logger': <TraceLogger attr_dict (WARNING)>, 'display_name': 'mmrotate-verify-install', 'experiment_name': 'ssd_tiny', 'compute': None, 'services': {'Tracking': {'endpoint': 'azureml://eastus.api.azureml.ms/mlflow/v1.0/subscriptions/12f3c420-0042-4a74-822e-9300a0a381b2/resourceGroups/mmrotate-azure-rg/providers/Microsoft.MachineLearningServices/workspaces/sheldon-workspace?', 'type': 'Tracking'}, 'Studio': {'endpoint': 'https://ml.azure.com/runs/neat_oven_h6pjwcycd7?wsid=/subscriptions/12f3c420-0042-4a74-822e-9300a0a381b2/resourcegroups/mmrotate-azure-rg/workspaces/sheldon-workspace&tid=26b87767-b204-462f-9e8f-72813705fb8e', 'type': 'Studio'}}, 'comment': None, 'job_inputs': {}, 'job_outputs': {'default': {'type': 'uri_folder', 'path': 'azureml://datastores/workspaceartifactstore/ExperimentRun/dcid.neat_oven_h6pjwcycd7', 'mode': 'rw_mount'}}, 'inputs': {}, 'outputs': {'default': <azure.ai.ml.entities._job.pipeline._io.base.NodeOutput object at 0x7fdcb8279670>}, 'component': CommandComponent({'latest_version': None, 'intellectual_property': None, 'auto_increment_version': True, 'source': 'REMOTE.WORKSPACE.JOB', 'is_anonymous': False, 'auto_delete_setting': None, 'name': 'neat_oven_h6pjwcycd7', 'description': None, 'tags': {}, 'properties': {}, 'print_as_yaml': False, 'id': None, 'Resource__source_path': None, 'base_path': '/home/sheldon/workspaces/ssd_tiny', 'creation_context': <azure.ai.ml.entities._system_data.SystemData object at 0x7fdcb821d160>, 'serialize': <msrest.serialization.Serializer object at 0x7fdcb8279610>, 'command': 'python train.py', 'code': '/subscriptions/12f3c420-0042-4a74-822e-9300a0a381b2/resourceGroups/mmrotate-azure-rg/providers/Microsoft.MachineLearningServices/workspaces/sheldon-workspace/codes/57db5e42-f1c9-48e2-973d-fb380f5363e5/versions/1', 'environment_variables': {}, 'environment': '/subscriptions/12f3c420-0042-4a74-822e-9300a0a381b2/resourceGroups/mmrotate-azure-rg/providers/Microsoft.MachineLearningServices/workspaces/sheldon-workspace/environments/mmrotate-azure-env-gpu/versions/4', 'distribution': None, 'resources': None, 'queue_settings': None, 'version': None, 'schema': None, 'type': 'command', 'display_name': 'mmrotate-verify-install', 'is_deterministic': True, 'inputs': {}, 'outputs': {'default': {'type': 'uri_folder', 'path': 'azureml://datastores/workspaceartifactstore/ExperimentRun/dcid.neat_oven_h6pjwcycd7', 'mode': 'rw_mount'}}, 'yaml_str': None, 'other_parameter': {'status': 'Starting', 'parameters': {}}, 'additional_includes': []}), 'referenced_control_flow_node_instance_id': None, 'kwargs': {'services': {'Tracking': {'endpoint': 'azureml://eastus.api.azureml.ms/mlflow/v1.0/subscriptions/12f3c420-0042-4a74-822e-9300a0a381b2/resourceGroups/mmrotate-azure-rg/providers/Microsoft.MachineLearningServices/workspaces/sheldon-workspace?', 'type': 'Tracking'}, 'Studio': {'endpoint': 'https://ml.azure.com/runs/neat_oven_h6pjwcycd7?wsid=/subscriptions/12f3c420-0042-4a74-822e-9300a0a381b2/resourcegroups/mmrotate-azure-rg/workspaces/sheldon-workspace&tid=26b87767-b204-462f-9e8f-72813705fb8e', 'type': 'Studio'}}, 'status': 'Starting', 'creation_context': <azure.ai.ml.entities._system_data.SystemData object at 0x7fdcb821d160>}, 'instance_id': '4568afae-5f82-48eb-8a5e-929f299d8d46', 'source': 'BUILDER', 'validate_required_input_not_provided': True, 'limits': None, 'identity': None, 'distribution': None, 'environment_variables': {}, 'environment': 'mmrotate-azure-env-gpu:4', 'resources': {'instance_count': 1, 'instance_type': 'Standard_NC4as_T4_v3', 'shm_size': '2g'}, 'queue_settings': {'job_tier': 'spot'}, 'swept': False})"
      ]
     },
     "execution_count": 10,
     "metadata": {},
     "output_type": "execute_result"
    }
   ],
   "source": [
    "ml_client.create_or_update(job)"
   ]
  }
 ],
 "metadata": {
  "kernelspec": {
   "display_name": "mmrotate-azure",
   "language": "python",
   "name": "python3"
  },
  "language_info": {
   "codemirror_mode": {
    "name": "ipython",
    "version": 3
   },
   "file_extension": ".py",
   "mimetype": "text/x-python",
   "name": "python",
   "nbconvert_exporter": "python",
   "pygments_lexer": "ipython3",
   "version": "3.8.20"
  }
 },
 "nbformat": 4,
 "nbformat_minor": 2
}
